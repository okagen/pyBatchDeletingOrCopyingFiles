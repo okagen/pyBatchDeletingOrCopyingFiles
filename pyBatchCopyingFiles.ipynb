{
 "cells": [
  {
   "cell_type": "markdown",
   "metadata": {},
   "source": [
    "## Copy some files which are determined in a csv file .\n"
   ]
  },
  {
   "cell_type": "code",
   "execution_count": 1,
   "metadata": {},
   "outputs": [],
   "source": [
    "import pandas as pd\n",
    "import csv\n",
    "import glob\n",
    "import os\n",
    "from tqdm import tqdm\n",
    "import shutil"
   ]
  },
  {
   "cell_type": "code",
   "execution_count": 2,
   "metadata": {},
   "outputs": [],
   "source": [
    "csv_encoding = 'Shift_JISx0213'\n",
    "csv_path = 'Data\\\\Remain_or_Delete_files.csv'\n",
    "file_path = 'Data\\\\jpeg_all\\\\**\\\\*.jpeg'\n",
    "file_path_new = 'Data\\\\jpeg_new\\\\'"
   ]
  },
  {
   "cell_type": "markdown",
   "metadata": {},
   "source": [
    "### Read a csv file which contains file name (***.jpeg) and RorD flag.\n",
    "Remain = 1 <br>\n",
    "Delete = 0"
   ]
  },
  {
   "cell_type": "code",
   "execution_count": 3,
   "metadata": {},
   "outputs": [
    {
     "data": {
      "text/html": [
       "<div>\n",
       "<style scoped>\n",
       "    .dataframe tbody tr th:only-of-type {\n",
       "        vertical-align: middle;\n",
       "    }\n",
       "\n",
       "    .dataframe tbody tr th {\n",
       "        vertical-align: top;\n",
       "    }\n",
       "\n",
       "    .dataframe thead th {\n",
       "        text-align: right;\n",
       "    }\n",
       "</style>\n",
       "<table border=\"1\" class=\"dataframe\">\n",
       "  <thead>\n",
       "    <tr style=\"text-align: right;\">\n",
       "      <th></th>\n",
       "      <th>file name</th>\n",
       "      <th>RorD</th>\n",
       "    </tr>\n",
       "  </thead>\n",
       "  <tbody>\n",
       "    <tr>\n",
       "      <th>85</th>\n",
       "      <td>1123000086.jpeg</td>\n",
       "      <td>0</td>\n",
       "    </tr>\n",
       "    <tr>\n",
       "      <th>86</th>\n",
       "      <td>1123000088.jpeg</td>\n",
       "      <td>0</td>\n",
       "    </tr>\n",
       "    <tr>\n",
       "      <th>87</th>\n",
       "      <td>1123000089.jpeg</td>\n",
       "      <td>0</td>\n",
       "    </tr>\n",
       "    <tr>\n",
       "      <th>88</th>\n",
       "      <td>1123000090.jpeg</td>\n",
       "      <td>0</td>\n",
       "    </tr>\n",
       "    <tr>\n",
       "      <th>89</th>\n",
       "      <td>1123000091.jpeg</td>\n",
       "      <td>0</td>\n",
       "    </tr>\n",
       "    <tr>\n",
       "      <th>90</th>\n",
       "      <td>1123000092.jpeg</td>\n",
       "      <td>0</td>\n",
       "    </tr>\n",
       "    <tr>\n",
       "      <th>91</th>\n",
       "      <td>1123000110.jpeg</td>\n",
       "      <td>1</td>\n",
       "    </tr>\n",
       "    <tr>\n",
       "      <th>92</th>\n",
       "      <td>1123000111.jpeg</td>\n",
       "      <td>1</td>\n",
       "    </tr>\n",
       "    <tr>\n",
       "      <th>93</th>\n",
       "      <td>1123000112.jpeg</td>\n",
       "      <td>1</td>\n",
       "    </tr>\n",
       "    <tr>\n",
       "      <th>94</th>\n",
       "      <td>1123000113.jpeg</td>\n",
       "      <td>1</td>\n",
       "    </tr>\n",
       "  </tbody>\n",
       "</table>\n",
       "</div>"
      ],
      "text/plain": [
       "          file name  RorD\n",
       "85  1123000086.jpeg     0\n",
       "86  1123000088.jpeg     0\n",
       "87  1123000089.jpeg     0\n",
       "88  1123000090.jpeg     0\n",
       "89  1123000091.jpeg     0\n",
       "90  1123000092.jpeg     0\n",
       "91  1123000110.jpeg     1\n",
       "92  1123000111.jpeg     1\n",
       "93  1123000112.jpeg     1\n",
       "94  1123000113.jpeg     1"
      ]
     },
     "metadata": {},
     "output_type": "display_data"
    },
    {
     "data": {
      "text/html": [
       "<div>\n",
       "<style scoped>\n",
       "    .dataframe tbody tr th:only-of-type {\n",
       "        vertical-align: middle;\n",
       "    }\n",
       "\n",
       "    .dataframe tbody tr th {\n",
       "        vertical-align: top;\n",
       "    }\n",
       "\n",
       "    .dataframe thead th {\n",
       "        text-align: right;\n",
       "    }\n",
       "</style>\n",
       "<table border=\"1\" class=\"dataframe\">\n",
       "  <thead>\n",
       "    <tr style=\"text-align: right;\">\n",
       "      <th></th>\n",
       "      <th>file name</th>\n",
       "      <th>RorD</th>\n",
       "    </tr>\n",
       "  </thead>\n",
       "  <tbody>\n",
       "    <tr>\n",
       "      <th>330157</th>\n",
       "      <td>5393136978.jpeg</td>\n",
       "      <td>0</td>\n",
       "    </tr>\n",
       "    <tr>\n",
       "      <th>330158</th>\n",
       "      <td>5393136980.jpeg</td>\n",
       "      <td>0</td>\n",
       "    </tr>\n",
       "    <tr>\n",
       "      <th>330159</th>\n",
       "      <td>5393136981.jpeg</td>\n",
       "      <td>0</td>\n",
       "    </tr>\n",
       "    <tr>\n",
       "      <th>330160</th>\n",
       "      <td>5393136982.jpeg</td>\n",
       "      <td>0</td>\n",
       "    </tr>\n",
       "    <tr>\n",
       "      <th>330161</th>\n",
       "      <td>5393136983.jpeg</td>\n",
       "      <td>0</td>\n",
       "    </tr>\n",
       "    <tr>\n",
       "      <th>330162</th>\n",
       "      <td>5393136984.jpeg</td>\n",
       "      <td>0</td>\n",
       "    </tr>\n",
       "    <tr>\n",
       "      <th>330163</th>\n",
       "      <td>5393136985.jpeg</td>\n",
       "      <td>0</td>\n",
       "    </tr>\n",
       "    <tr>\n",
       "      <th>330164</th>\n",
       "      <td>5393136986.jpeg</td>\n",
       "      <td>0</td>\n",
       "    </tr>\n",
       "    <tr>\n",
       "      <th>330165</th>\n",
       "      <td>5393136987.jpeg</td>\n",
       "      <td>0</td>\n",
       "    </tr>\n",
       "    <tr>\n",
       "      <th>330166</th>\n",
       "      <td>5393136988.jpeg</td>\n",
       "      <td>0</td>\n",
       "    </tr>\n",
       "  </tbody>\n",
       "</table>\n",
       "</div>"
      ],
      "text/plain": [
       "              file name  RorD\n",
       "330157  5393136978.jpeg     0\n",
       "330158  5393136980.jpeg     0\n",
       "330159  5393136981.jpeg     0\n",
       "330160  5393136982.jpeg     0\n",
       "330161  5393136983.jpeg     0\n",
       "330162  5393136984.jpeg     0\n",
       "330163  5393136985.jpeg     0\n",
       "330164  5393136986.jpeg     0\n",
       "330165  5393136987.jpeg     0\n",
       "330166  5393136988.jpeg     0"
      ]
     },
     "metadata": {},
     "output_type": "display_data"
    }
   ],
   "source": [
    "df = pd.read_csv(csv_path, encoding=csv_encoding)\n",
    "display(df[85:95])\n",
    "display(df.tail(10))"
   ]
  },
  {
   "cell_type": "markdown",
   "metadata": {},
   "source": [
    "### Create a dictionary object by concatnating filename and RorD flag."
   ]
  },
  {
   "cell_type": "code",
   "execution_count": 4,
   "metadata": {},
   "outputs": [],
   "source": [
    "dic = dict(zip(df['file name'], df['RorD']))\n",
    "#display(dic)"
   ]
  },
  {
   "cell_type": "markdown",
   "metadata": {},
   "source": [
    "### Find all files in the directory."
   ]
  },
  {
   "cell_type": "code",
   "execution_count": 5,
   "metadata": {},
   "outputs": [
    {
     "name": "stdout",
     "output_type": "stream",
     "text": [
      "---------------------------\n",
      "### Find all files to be copied.\n"
     ]
    },
    {
     "data": {
      "text/plain": [
       "['Data\\\\jpeg_all\\\\112\\\\1123000110.jpeg',\n",
       " 'Data\\\\jpeg_all\\\\112\\\\1123000111.jpeg',\n",
       " 'Data\\\\jpeg_all\\\\112\\\\1123000112.jpeg',\n",
       " 'Data\\\\jpeg_all\\\\112\\\\1123000113.jpeg',\n",
       " 'Data\\\\jpeg_all\\\\112\\\\1123000114.jpeg',\n",
       " 'Data\\\\jpeg_all\\\\112\\\\1123000115.jpeg',\n",
       " 'Data\\\\jpeg_all\\\\112\\\\1123000116.jpeg',\n",
       " 'Data\\\\jpeg_all\\\\112\\\\1123000117.jpeg',\n",
       " 'Data\\\\jpeg_all\\\\112\\\\1123000118.jpeg',\n",
       " 'Data\\\\jpeg_all\\\\112\\\\1123000119.jpeg']"
      ]
     },
     "metadata": {},
     "output_type": "display_data"
    }
   ],
   "source": [
    "files = glob.glob(file_path)\n",
    "print('---------------------------')\n",
    "print('### Find all files to be copied.')\n",
    "display(files[ :10])"
   ]
  },
  {
   "cell_type": "markdown",
   "metadata": {},
   "source": [
    "### Copy files to new directory."
   ]
  },
  {
   "cell_type": "code",
   "execution_count": 6,
   "metadata": {},
   "outputs": [
    {
     "name": "stderr",
     "output_type": "stream",
     "text": [
      "100%|██████████| 330076/330076 [06:13<00:00, 882.62it/s] \n"
     ]
    },
    {
     "name": "stdout",
     "output_type": "stream",
     "text": [
      "Number of copied files :  77422\n"
     ]
    }
   ],
   "source": [
    "countCopiedFiles = 0\n",
    "progress = tqdm(total=len(files))\n",
    "\n",
    "for file in files:\n",
    "    basename = os.path.basename(file)\n",
    "    if dic[basename] == 1:\n",
    "        if os.path.exists(file):\n",
    "            org = file.split('\\\\')\n",
    "            newDir = file_path_new + org[2]\n",
    "            newFile = newDir + '\\\\' + basename\n",
    "\n",
    "            # Create a directory if it doesn't exist.\n",
    "            if not os.path.exists(newDir): os.mkdir(newDir) \n",
    "\n",
    "            # Copy an original file with new name.\n",
    "            shutil.copyfile(file, newFile)\n",
    "            \n",
    "            countCopiedFiles += 1\n",
    "        else:\n",
    "            print(\"The file does not exist\", basename)\n",
    "    \n",
    "    # Show a progress bar.\n",
    "    progress.update(1)\n",
    "\n",
    "progress.close()\n",
    "print('Number of copied files : ', countCopiedFiles)\n"
   ]
  },
  {
   "cell_type": "code",
   "execution_count": null,
   "metadata": {},
   "outputs": [],
   "source": []
  }
 ],
 "metadata": {
  "kernelspec": {
   "display_name": "Python 3",
   "language": "python",
   "name": "python3"
  },
  "language_info": {
   "codemirror_mode": {
    "name": "ipython",
    "version": 3
   },
   "file_extension": ".py",
   "mimetype": "text/x-python",
   "name": "python",
   "nbconvert_exporter": "python",
   "pygments_lexer": "ipython3",
   "version": "3.7.3"
  }
 },
 "nbformat": 4,
 "nbformat_minor": 2
}
