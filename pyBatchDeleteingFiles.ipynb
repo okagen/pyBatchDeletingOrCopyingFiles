{
 "cells": [
  {
   "cell_type": "markdown",
   "metadata": {},
   "source": [
    "## Delete some files which are determined in a csv file ."
   ]
  },
  {
   "cell_type": "code",
   "execution_count": 7,
   "metadata": {},
   "outputs": [],
   "source": [
    "import pandas as pd\n",
    "import csv\n",
    "import glob\n",
    "import os\n",
    "from tqdm import tqdm"
   ]
  },
  {
   "cell_type": "code",
   "execution_count": 8,
   "metadata": {},
   "outputs": [],
   "source": [
    "csv_encoding = 'Shift_JISx0213'\n",
    "csv_path = 'Data\\\\Remain_or_Delete_files.csv'\n",
    "jpeg_path = 'Data\\\\jpeg_all\\\\**\\\\*.jpeg'"
   ]
  },
  {
   "cell_type": "markdown",
   "metadata": {},
   "source": [
    "### Read a csv file which contains file name (***.jpeg) and RorD flag.\n",
    "Remain = 1 <br>\n",
    "Delete = 0"
   ]
  },
  {
   "cell_type": "code",
   "execution_count": 9,
   "metadata": {},
   "outputs": [
    {
     "data": {
      "text/html": [
       "<div>\n",
       "<style scoped>\n",
       "    .dataframe tbody tr th:only-of-type {\n",
       "        vertical-align: middle;\n",
       "    }\n",
       "\n",
       "    .dataframe tbody tr th {\n",
       "        vertical-align: top;\n",
       "    }\n",
       "\n",
       "    .dataframe thead th {\n",
       "        text-align: right;\n",
       "    }\n",
       "</style>\n",
       "<table border=\"1\" class=\"dataframe\">\n",
       "  <thead>\n",
       "    <tr style=\"text-align: right;\">\n",
       "      <th></th>\n",
       "      <th>file name</th>\n",
       "      <th>RorD</th>\n",
       "    </tr>\n",
       "  </thead>\n",
       "  <tbody>\n",
       "    <tr>\n",
       "      <th>0</th>\n",
       "      <td>1123000001.jpeg</td>\n",
       "      <td>0</td>\n",
       "    </tr>\n",
       "    <tr>\n",
       "      <th>1</th>\n",
       "      <td>1123000002.jpeg</td>\n",
       "      <td>0</td>\n",
       "    </tr>\n",
       "    <tr>\n",
       "      <th>2</th>\n",
       "      <td>1123000003.jpeg</td>\n",
       "      <td>0</td>\n",
       "    </tr>\n",
       "    <tr>\n",
       "      <th>3</th>\n",
       "      <td>1123000004.jpeg</td>\n",
       "      <td>0</td>\n",
       "    </tr>\n",
       "    <tr>\n",
       "      <th>4</th>\n",
       "      <td>1123000005.jpeg</td>\n",
       "      <td>0</td>\n",
       "    </tr>\n",
       "    <tr>\n",
       "      <th>5</th>\n",
       "      <td>1123000006.jpeg</td>\n",
       "      <td>0</td>\n",
       "    </tr>\n",
       "    <tr>\n",
       "      <th>6</th>\n",
       "      <td>1123000007.jpeg</td>\n",
       "      <td>0</td>\n",
       "    </tr>\n",
       "    <tr>\n",
       "      <th>7</th>\n",
       "      <td>1123000008.jpeg</td>\n",
       "      <td>0</td>\n",
       "    </tr>\n",
       "    <tr>\n",
       "      <th>8</th>\n",
       "      <td>1123000009.jpeg</td>\n",
       "      <td>0</td>\n",
       "    </tr>\n",
       "    <tr>\n",
       "      <th>9</th>\n",
       "      <td>1123000010.jpeg</td>\n",
       "      <td>0</td>\n",
       "    </tr>\n",
       "  </tbody>\n",
       "</table>\n",
       "</div>"
      ],
      "text/plain": [
       "         file name  RorD\n",
       "0  1123000001.jpeg     0\n",
       "1  1123000002.jpeg     0\n",
       "2  1123000003.jpeg     0\n",
       "3  1123000004.jpeg     0\n",
       "4  1123000005.jpeg     0\n",
       "5  1123000006.jpeg     0\n",
       "6  1123000007.jpeg     0\n",
       "7  1123000008.jpeg     0\n",
       "8  1123000009.jpeg     0\n",
       "9  1123000010.jpeg     0"
      ]
     },
     "metadata": {},
     "output_type": "display_data"
    }
   ],
   "source": [
    "df = pd.read_csv(csv_path, encoding=csv_encoding)\n",
    "display(df.head(10))"
   ]
  },
  {
   "cell_type": "markdown",
   "metadata": {},
   "source": [
    "### Create a dictionary object by concatnating filename and RorD flag."
   ]
  },
  {
   "cell_type": "code",
   "execution_count": 10,
   "metadata": {},
   "outputs": [],
   "source": [
    "dic = dict(zip(df['file name'], df['RorD']))\n",
    "#display(dic)"
   ]
  },
  {
   "cell_type": "markdown",
   "metadata": {},
   "source": [
    "### Find all files to be remained or deleted."
   ]
  },
  {
   "cell_type": "code",
   "execution_count": 11,
   "metadata": {},
   "outputs": [
    {
     "name": "stdout",
     "output_type": "stream",
     "text": [
      "---------------------------\n",
      "### Find all files to be deleted.\n"
     ]
    },
    {
     "data": {
      "text/plain": [
       "['Data\\\\jpeg_all\\\\112\\\\1123000110.jpeg',\n",
       " 'Data\\\\jpeg_all\\\\112\\\\1123000111.jpeg',\n",
       " 'Data\\\\jpeg_all\\\\112\\\\1123000112.jpeg',\n",
       " 'Data\\\\jpeg_all\\\\112\\\\1123000113.jpeg',\n",
       " 'Data\\\\jpeg_all\\\\112\\\\1123000114.jpeg',\n",
       " 'Data\\\\jpeg_all\\\\112\\\\1123000115.jpeg',\n",
       " 'Data\\\\jpeg_all\\\\112\\\\1123000116.jpeg',\n",
       " 'Data\\\\jpeg_all\\\\112\\\\1123000117.jpeg',\n",
       " 'Data\\\\jpeg_all\\\\112\\\\1123000118.jpeg',\n",
       " 'Data\\\\jpeg_all\\\\112\\\\1123000119.jpeg']"
      ]
     },
     "metadata": {},
     "output_type": "display_data"
    }
   ],
   "source": [
    "files = glob.glob(jpeg_path)\n",
    "print('---------------------------')\n",
    "print('### Find all files to be deleted.')\n",
    "display(files[ :10])"
   ]
  },
  {
   "cell_type": "markdown",
   "metadata": {},
   "source": [
    "### Delete files."
   ]
  },
  {
   "cell_type": "code",
   "execution_count": 12,
   "metadata": {},
   "outputs": [
    {
     "name": "stderr",
     "output_type": "stream",
     "text": [
      "100%|██████████| 330076/330076 [02:04<00:00, 2641.24it/s]\n"
     ]
    },
    {
     "name": "stdout",
     "output_type": "stream",
     "text": [
      "Number of deleted files :  252654\n",
      "Number of remained files :  77422\n"
     ]
    }
   ],
   "source": [
    "countRemain = 0\n",
    "countDelete = 0\n",
    "progress = tqdm(total=len(files))\n",
    "\n",
    "for file in files:\n",
    "    basename = os.path.basename(file)\n",
    "    if dic[basename] == 0:\n",
    "        if os.path.exists(file):\n",
    "            os.remove(file)\n",
    "            countDelete += 1\n",
    "        else:\n",
    "            print(\"The file does not exist\", basename)        \n",
    "    else:\n",
    "        countRemain += 1 \n",
    "\n",
    "    # Show a progress bar.\n",
    "    progress.update(1)\n",
    "\n",
    "progress.close()\n",
    "print('Number of deleted files : ', countDelete)\n",
    "print('Number of remained files : ', countRemain)"
   ]
  }
 ],
 "metadata": {
  "kernelspec": {
   "display_name": "Python 3",
   "language": "python",
   "name": "python3"
  },
  "language_info": {
   "codemirror_mode": {
    "name": "ipython",
    "version": 3
   },
   "file_extension": ".py",
   "mimetype": "text/x-python",
   "name": "python",
   "nbconvert_exporter": "python",
   "pygments_lexer": "ipython3",
   "version": "3.7.3"
  }
 },
 "nbformat": 4,
 "nbformat_minor": 2
}
